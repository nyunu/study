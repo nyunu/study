{
  "nbformat": 4,
  "nbformat_minor": 0,
  "metadata": {
    "colab": {
      "provenance": [],
      "authorship_tag": "ABX9TyOb5Se8PulrvEfys6vM2njK",
      "include_colab_link": true
    },
    "kernelspec": {
      "name": "python3",
      "display_name": "Python 3"
    },
    "language_info": {
      "name": "python"
    }
  },
  "cells": [
    {
      "cell_type": "markdown",
      "metadata": {
        "id": "view-in-github",
        "colab_type": "text"
      },
      "source": [
        "<a href=\"https://colab.research.google.com/github/nyunu/study/blob/main/%EC%9D%B4%EC%A7%84%ED%8A%B8%EB%A6%AC.ipynb\" target=\"_parent\"><img src=\"https://colab.research.google.com/assets/colab-badge.svg\" alt=\"Open In Colab\"/></a>"
      ]
    },
    {
      "cell_type": "markdown",
      "source": [
        "## 트리순회"
      ],
      "metadata": {
        "id": "ORh8tI2scEQP"
      }
    },
    {
      "cell_type": "code",
      "execution_count": null,
      "metadata": {
        "id": "Hp4KJhfA7CBF"
      },
      "outputs": [],
      "source": [
        "class Node:\n",
        "  def __init__(self, item):\n",
        "    self.data = item\n",
        "    self.rchild = None\n",
        "    self.lchild = None\n",
        "\n",
        "class Tree:\n",
        "  def __init__(self):\n",
        "    self.queue = []\n",
        "    self.stack = []\n",
        "    self.output = ''\n",
        "\n",
        "  # 레벨 순서 순회\n",
        "  def levelorder(self, node):\n",
        "    if not node : return\n",
        "      # root가 None이면 return\n",
        "    self.queue.append(node)\n",
        "      # queue에 node(root 노드)를 추가\n",
        "    while len(self.queue) > 0:\n",
        "        # queue에 원소가 있는 동안\n",
        "      node = self.queue.pop(0)\n",
        "        # queue의 첫번째 원소를 pop\n",
        "      print(node.data, end = '')\n",
        "        # 위에서 pop한 데이터를 출력\n",
        "      if node.lchild:\n",
        "        # 만약 node의 lchild가 존재하면\n",
        "        self.queue.append(node.lchild)\n",
        "          # node의 lchild를 queue에 추가\n",
        "      if node.rchild:\n",
        "        # 만약 node의 rchild가 존재하면\n",
        "        self.queue.append(node.rchild)\n",
        "          # node의 rchild를 queue에 추가\n",
        "\n",
        "  # 후위 순서 순회\n",
        "  def postorder(self, ptr):\n",
        "      # 최초의 ptr은 root노드로 주어짐\n",
        "    if ptr:\n",
        "      self.stack.append(ptr.data)\n",
        "      print('', self.stack)\n",
        "      self.postorder(ptr.lchild)\n",
        "        # ptr 노드 기준 왼쪽 서브트리 순회\n",
        "      self.postorder(ptr.rchild)\n",
        "        # ptr 노드 기준 오른쪽 서브트리 순회\n",
        "      print(ptr.data, end = '')\n",
        "      self.stack.pop()\n",
        "      print(self.stack)\n",
        "  \n",
        "  def inorder(self, ptr):\n",
        "    # 최초의 ptr은 root노드로 주어짐\n",
        "    if ptr:\n",
        "      self.stack.append(ptr.data)\n",
        "        # 루트 노드의 데이터를 스택에 추가\n",
        "      print('', self.stack)\n",
        "      self.inorder(ptr.lchild)\n",
        "        # 루트 노드 기준 왼쪽 서브트리 순회\n",
        "      print(ptr.data, end = '')\n",
        "      self.output += self.stack.pop()\n",
        "        # 루트 노드 순회\n",
        "      print(self.stack)\n",
        "      self.inorder(ptr.rchild)\n",
        "        # 루트 노드 기준 오른쪽 서브트리 순회\n",
        "  \n",
        "  def inorder_view(self):\n",
        "    print(self.output)\n",
        "  \n",
        "  def preorder(self, ptr):\n",
        "    if ptr:\n",
        "      self.stack.append(ptr.data)\n",
        "      print('', self.stack)\n",
        "      print(ptr.data, end = '')\n",
        "      self.stack.pop()\n",
        "        # 지금 함수가 가리키는 ptr의 데이터 값 pop\n",
        "      print(self.stack)\n",
        "      self.preorder(ptr.lchild)\n",
        "        # ptr 노드 기준 왼쪽 서브트리 순회\n",
        "      self.preorder(ptr.rchild)\n",
        "        # ptr 노드 기준 오른쪽 서브트리 순회\n",
        "  \n",
        "  def viewQueue(self):\n",
        "    print('[', end = '')\n",
        "    for item in self.queue:\n",
        "      print(item.data, end = '')\n",
        "    print(']')\n"
      ]
    },
    {
      "cell_type": "code",
      "source": [
        "root = Node('-')\n",
        "node1 = root.lchild = Node(\"+\")\n",
        "node2 = root.rchild = Node(\"/\")\n",
        "node1.lchild = Node('*')\n",
        "node1.rchild = Node('C')\n",
        "node2.lchild = Node('D')\n",
        "node2.rchild = Node('E')\n",
        "node1.lchild.lchild = Node('A')\n",
        "node1.lchild.rchild = Node('B')\n",
        "\n",
        "t = Tree()\n",
        "\n",
        "print(\"Levelorder\")\n",
        "t.levelorder(root)\n",
        "print()\n",
        "print(\"Postorder\")\n",
        "t.postorder(root)\n",
        "print()\n",
        "print(\"Inorder\")\n",
        "t.inorder(root)\n",
        "print()\n",
        "print('Preorder')\n",
        "t.preorder(root)"
      ],
      "metadata": {
        "colab": {
          "base_uri": "https://localhost:8080/"
        },
        "id": "AA_vLazIevuh",
        "outputId": "ac342395-02d0-48c0-f3e3-9fc564f1a82a"
      },
      "execution_count": null,
      "outputs": [
        {
          "output_type": "stream",
          "name": "stdout",
          "text": [
            "Levelorder\n",
            "-+/*CDEAB\n",
            "Postorder\n",
            " ['-']\n",
            " ['-', '+']\n",
            " ['-', '+', '*']\n",
            " ['-', '+', '*', 'A']\n",
            "A['-', '+', '*']\n",
            " ['-', '+', '*', 'B']\n",
            "B['-', '+', '*']\n",
            "*['-', '+']\n",
            " ['-', '+', 'C']\n",
            "C['-', '+']\n",
            "+['-']\n",
            " ['-', '/']\n",
            " ['-', '/', 'D']\n",
            "D['-', '/']\n",
            " ['-', '/', 'E']\n",
            "E['-', '/']\n",
            "/['-']\n",
            "-[]\n",
            "\n",
            "Inorder\n",
            " ['-']\n",
            " ['-', '+']\n",
            " ['-', '+', '*']\n",
            " ['-', '+', '*', 'A']\n",
            "A['-', '+', '*']\n",
            "*['-', '+']\n",
            " ['-', '+', 'B']\n",
            "B['-', '+']\n",
            "+['-']\n",
            " ['-', 'C']\n",
            "C['-']\n",
            "-[]\n",
            " ['/']\n",
            " ['/', 'D']\n",
            "D['/']\n",
            "/[]\n",
            " ['E']\n",
            "E[]\n",
            "\n",
            "Preorder\n",
            " ['-']\n",
            "-[]\n",
            " ['+']\n",
            "+[]\n",
            " ['*']\n",
            "*[]\n",
            " ['A']\n",
            "A[]\n",
            " ['B']\n",
            "B[]\n",
            " ['C']\n",
            "C[]\n",
            " ['/']\n",
            "/[]\n",
            " ['D']\n",
            "D[]\n",
            " ['E']\n",
            "E[]\n"
          ]
        }
      ]
    },
    {
      "cell_type": "markdown",
      "source": [
        "## (수식) 평가 트리 예제1 "
      ],
      "metadata": {
        "id": "U_RRzTdncH3F"
      }
    },
    {
      "cell_type": "code",
      "source": [
        "class Node:\n",
        "  def __init__(self, item):\n",
        "    self.data = item\n",
        "    self.value = None\n",
        "    self.rchild = None\n",
        "    self.lchild = None\n",
        "\n",
        "class Tree:\n",
        "  def evaluateBool(self, node):\n",
        "    if node:\n",
        "      self.evaluateBool(node.lchild)\n",
        "      self.evaluateBool(node.rchild)\n",
        "      if node.data == 'or':\n",
        "        node.value = node.lchild.value or node.rchild.value\n",
        "        print(\"%3s\"%node.data, ':', node.value)\n",
        "      elif node.data == 'and':\n",
        "        node.value = node.lchild.value and node.rchild.value\n",
        "        print(\"%3s\"%node.data, ':', node.value)\n",
        "      elif node.data == 'not':\n",
        "        node.value = not node.rchild.value\n",
        "        print(\"%3s\"%node.data, ':', node.value)\n",
        "      elif node.data == 'TRUE':\n",
        "        node.value = True\n",
        "        print(\"%3s\"%node.data, ':', node.value)\n",
        "      elif node.data == 'FALSE':\n",
        "        node.value = False\n",
        "        print(\"%3s\"%node.data, ':', node.value)\n",
        "      else:\n",
        "        print(\"%3s\"%node.data, ':', node.value)"
      ],
      "metadata": {
        "id": "gj560WjeA3WI"
      },
      "execution_count": null,
      "outputs": []
    },
    {
      "cell_type": "code",
      "source": [
        "root = Node('or')\n",
        "node1 = root.lchild = Node(\"or\")\n",
        "node2 = root.rchild = Node(\"not\")\n",
        "node1.lchild = Node('and')\n",
        "node1.rchild = Node('not')\n",
        "node2.lchild = Node('E')\n",
        "node2.rchild = Node('2')\n",
        "node2.rchild.value = False\n",
        "\n",
        "node1.lchild.lchild = Node('A')\n",
        "node1.lchild.lchild.value = True\n",
        "node1.lchild.rchild = Node('B')\n",
        "node1.lchild.rchild.value = True\n",
        "node1.rchild.rchild = Node('C')\n",
        "node1.rchild.rchild.value = False\n",
        "\n",
        "t = Tree()\n",
        "t.evaluateBool(root)\n",
        "print(\"result=\", root.value)"
      ],
      "metadata": {
        "colab": {
          "base_uri": "https://localhost:8080/"
        },
        "id": "7BNP0tJUfsa5",
        "outputId": "d906826e-5e5d-4804-bec1-4b7f2bccdd94"
      },
      "execution_count": null,
      "outputs": [
        {
          "output_type": "stream",
          "name": "stdout",
          "text": [
            "  A : True\n",
            "  B : True\n",
            "and : True\n",
            "  C : False\n",
            "not : True\n",
            " or : True\n",
            "  E : None\n",
            "  2 : False\n",
            "not : True\n",
            " or : True\n",
            "result= True\n"
          ]
        }
      ]
    },
    {
      "cell_type": "markdown",
      "source": [
        "## (수식) 평가 트리 예제2"
      ],
      "metadata": {
        "id": "GxQ05lp0dMCa"
      }
    },
    {
      "cell_type": "code",
      "source": [
        "class Node:\n",
        "  def __init__(self, item):\n",
        "    self.data = item\n",
        "    self.value = None\n",
        "    self.rchild = None\n",
        "    self.lchild = None\n",
        "\n",
        "class Tree:\n",
        "  def evaluate(self, node):\n",
        "    if node:\n",
        "      self.evaluate(node.lchild)\n",
        "      self.evaluate(node.rchild)\n",
        "      if node.data == '+':\n",
        "        node.value = node.lchild.value + node.rchild.value\n",
        "        print(\"%3s\"%node.data, ':', node.value)\n",
        "      elif node.data == '-':\n",
        "        node.value = node.lchild.value - node.rchild.value\n",
        "        print(\"%3s\"%node.data, ':', node.value)\n",
        "      elif node.data == '*':\n",
        "        node.value = node.lchild.value * node.rchild.value\n",
        "        print(\"%3s\"%node.data, ':', node.value)\n",
        "      elif node.data == '/':\n",
        "        node.value = node.lchild.value // node.rchild.value\n",
        "        print(\"%3s\"%node.data, ':', node.value)\n",
        "      elif node.data == '%':\n",
        "        node.value = node.lchild.value % node.rchild.value\n",
        "        print(\"%3s\"%node.data, ':', node.value)\n",
        "      else:\n",
        "        node.value = int(node.data)\n",
        "        print(\"%3s\"%node.data, ':', node.value)"
      ],
      "metadata": {
        "id": "o-3m5FYidQWI"
      },
      "execution_count": null,
      "outputs": []
    },
    {
      "cell_type": "code",
      "source": [
        "# (4 * 5 + 3) - (8 / 2)\n",
        "\n",
        "root = Node('-')\n",
        "node1 = root.lchild = Node(\"+\")\n",
        "node2 = root.rchild = Node(\"/\")\n",
        "node1.lchild = Node('*')\n",
        "node1.rchild = Node('3')\n",
        "node2.lchild = Node('8')\n",
        "node2.rchild = Node('2')\n",
        "node1.lchild.lchild = Node('4')\n",
        "node1.lchild.rchild = Node('5')\n",
        "\n",
        "t = Tree()\n",
        "t.evaluate(root)\n",
        "print(\"result =\", root.value)"
      ],
      "metadata": {
        "colab": {
          "base_uri": "https://localhost:8080/"
        },
        "id": "GHgmQOMDdpdL",
        "outputId": "a2c44e67-6ee5-4f94-a107-70ef7c5d3323"
      },
      "execution_count": null,
      "outputs": [
        {
          "output_type": "stream",
          "name": "stdout",
          "text": [
            "  4 : 4\n",
            "  5 : 5\n",
            "  * : 20\n",
            "  3 : 3\n",
            "  + : 23\n",
            "  8 : 8\n",
            "  2 : 2\n",
            "  / : 4\n",
            "  - : 19\n",
            "result = 19\n"
          ]
        }
      ]
    }
  ]
}